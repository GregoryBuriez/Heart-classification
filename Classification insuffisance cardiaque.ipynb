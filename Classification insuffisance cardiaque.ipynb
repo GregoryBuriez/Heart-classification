{
 "cells": [
  {
   "cell_type": "markdown",
   "id": "4da44359",
   "metadata": {},
   "source": [
    "# Classification insuffisance cardiaque"
   ]
  },
  {
   "cell_type": "raw",
   "id": "6d2b08d4",
   "metadata": {},
   "source": [
    "Explication du projet : \n",
    "\n",
    "\n",
    "Les personnes atteintes de maladies cardiovasculaires ou à haut risque cardiovasculaire (en raison de la présence d'un ou plusieurs facteurs de risque tels que l'hypertension, le diabète, l'hyperlipidémie ou une maladie déjà établie) ont besoin d'une détection et d'une prise en charge précoces dans lesquelles un modèle d'apprentissage automatique peut être d'une grande aide.\n",
    "\n",
    "Informations sur les attributs : \n",
    "\n",
    "- Âge : âge du patient [années]\n",
    "- Sexe : sexe du patient [M : Masculin, F : Féminin]\n",
    "- ChestPainType : type de douleur thoracique [TA : Angine typique, ATA : Angine atypique, NAP : Douleur non angineuse, ASY : Asymptomatique]\n",
    "- BP au repos : pression artérielle au repos [mm Hg]\n",
    "- Cholestérol : cholestérol sérique [mm/dl]\n",
    "- FastingBS : glycémie à jeun [1 : si FastingBS > 120 mg/dl, 0 : sinon]\n",
    "- ECG au repos : résultats de l'électrocardiogramme au repos [Normal : normal, ST : présentant une anomalie de l'onde ST-T (inversions de l'onde T et/ou élévation ou dépression du segment ST > 0,05 mV), HVG : montrant une hypertrophie ventriculaire gauche probable ou certaine selon les critères d'Estes]\n",
    "- MaxHR : fréquence cardiaque maximale atteinte [Valeur numérique entre 60 et 202]\n",
    "- ExerciseAngina : angine induite par l'effort [O : Oui, N : Non]\n",
    "- Oldpeak : oldpeak = ST [Valeur numérique mesurée en dépression]\n",
    "- ST_Slope : la pente du segment ST d'exercice maximal [Haut : ascendant, Plat : plat, Bas : descendant]\n",
    "- HeartDisease : classe de sortie [1 : maladie cardiaque, 0 : normal]\n",
    "\n",
    "\n",
    "Source\n",
    "Ce jeu de données a été créé en combinant différents jeux de données déjà disponibles indépendamment mais non combinés auparavant. Dans cet ensemble de données, 5 ensembles de données cardiaques sont combinés sur 11 caractéristiques communes, ce qui en fait le plus grand ensemble de données sur les maladies cardiaques disponible à ce jour à des fins de recherche. Les cinq ensembles de données utilisés pour sa conservation sont :\n",
    "\n",
    "Cleveland: 303 observations\n",
    "Hungarian: 294 observations\n",
    "Switzerland: 123 observations\n",
    "Long Beach VA: 200 observations\n",
    "Stalog (Heart) : 270 observations\n",
    "\n",
    "Total: 1190 observations\n",
    "Duplicated: 272 observations\n",
    "\n",
    "Fichier final: 918 observations"
   ]
  },
  {
   "cell_type": "markdown",
   "id": "f7d8146c",
   "metadata": {},
   "source": [
    "# Sommaire\n",
    "\n",
    "## I. Importation des données\n",
    "#### A. Importation des bibliothèques\n",
    "#### B. Importation du fichier\n",
    "\n",
    "### II. Exploration du fichier\n",
    "\n",
    "## III. Modélisation\n",
    "### A. Entrainement et sélection des modèles\n",
    "#### 1. Régression Logistiques\n",
    "#### 2. Naive Bayes\n",
    "#### 3. Random Forest\n",
    "#### 4. SVM\n",
    "\n",
    "## B. Optimisation\n",
    "#### 1. Régression Logistique\n",
    "#### 2. Random Forest\n",
    "\n",
    "## Conclusion"
   ]
  },
  {
   "cell_type": "markdown",
   "id": "686ce0e3",
   "metadata": {},
   "source": [
    "# "
   ]
  },
  {
   "cell_type": "markdown",
   "id": "60aaf367",
   "metadata": {},
   "source": [
    "### I. Importation des données"
   ]
  },
  {
   "cell_type": "markdown",
   "id": "7b094d5a",
   "metadata": {},
   "source": [
    "#### A. Importation des bibliothèques"
   ]
  },
  {
   "cell_type": "code",
   "execution_count": 1,
   "id": "b7a9883c",
   "metadata": {},
   "outputs": [],
   "source": [
    "import numpy as np\n",
    "import pandas as pd\n",
    "import matplotlib.pyplot as plt\n",
    "import seaborn as sns\n",
    "\n",
    "\n",
    "# Encodage\n",
    "from sklearn import preprocessing\n",
    "\n",
    "# Séparation du jeu de données\n",
    "from sklearn.model_selection import train_test_split\n",
    "\n",
    "# Modélisation\n",
    "from sklearn.linear_model import LogisticRegression\n",
    "from sklearn.naive_bayes import GaussianNB\n",
    "from sklearn.ensemble import RandomForestClassifier\n",
    "from sklearn import svm\n",
    "\n",
    "# Mesures de performances\n",
    "from sklearn.metrics import *\n",
    "from sklearn import metrics \n",
    "from sklearn.metrics import mean_squared_error\n",
    "\n",
    "# Optimisation du modèle\n",
    "from sklearn.model_selection import cross_val_score\n",
    "from sklearn.model_selection import validation_curve\n",
    "from sklearn.model_selection import GridSearchCV\n",
    "\n",
    "\n",
    "# Divers\n",
    "import warnings\n",
    "warnings.filterwarnings('ignore')"
   ]
  },
  {
   "cell_type": "markdown",
   "id": "cfe16268",
   "metadata": {},
   "source": [
    "#### B. Importation du fichier"
   ]
  },
  {
   "cell_type": "code",
   "execution_count": 2,
   "id": "80639603",
   "metadata": {},
   "outputs": [],
   "source": [
    "data = pd.read_csv('heart.csv')"
   ]
  },
  {
   "cell_type": "markdown",
   "id": "42a81e88",
   "metadata": {},
   "source": [
    "# "
   ]
  },
  {
   "cell_type": "markdown",
   "id": "2c86d6dd",
   "metadata": {},
   "source": [
    "### II. Exploration du fichier"
   ]
  },
  {
   "cell_type": "code",
   "execution_count": 3,
   "id": "6dec2082",
   "metadata": {},
   "outputs": [
    {
     "data": {
      "text/html": [
       "<div>\n",
       "<style scoped>\n",
       "    .dataframe tbody tr th:only-of-type {\n",
       "        vertical-align: middle;\n",
       "    }\n",
       "\n",
       "    .dataframe tbody tr th {\n",
       "        vertical-align: top;\n",
       "    }\n",
       "\n",
       "    .dataframe thead th {\n",
       "        text-align: right;\n",
       "    }\n",
       "</style>\n",
       "<table border=\"1\" class=\"dataframe\">\n",
       "  <thead>\n",
       "    <tr style=\"text-align: right;\">\n",
       "      <th></th>\n",
       "      <th>Age</th>\n",
       "      <th>Sex</th>\n",
       "      <th>ChestPainType</th>\n",
       "      <th>RestingBP</th>\n",
       "      <th>Cholesterol</th>\n",
       "      <th>FastingBS</th>\n",
       "      <th>RestingECG</th>\n",
       "      <th>MaxHR</th>\n",
       "      <th>ExerciseAngina</th>\n",
       "      <th>Oldpeak</th>\n",
       "      <th>ST_Slope</th>\n",
       "      <th>HeartDisease</th>\n",
       "    </tr>\n",
       "  </thead>\n",
       "  <tbody>\n",
       "    <tr>\n",
       "      <th>0</th>\n",
       "      <td>40</td>\n",
       "      <td>M</td>\n",
       "      <td>ATA</td>\n",
       "      <td>140</td>\n",
       "      <td>289</td>\n",
       "      <td>0</td>\n",
       "      <td>Normal</td>\n",
       "      <td>172</td>\n",
       "      <td>N</td>\n",
       "      <td>0.0</td>\n",
       "      <td>Up</td>\n",
       "      <td>0</td>\n",
       "    </tr>\n",
       "    <tr>\n",
       "      <th>1</th>\n",
       "      <td>49</td>\n",
       "      <td>F</td>\n",
       "      <td>NAP</td>\n",
       "      <td>160</td>\n",
       "      <td>180</td>\n",
       "      <td>0</td>\n",
       "      <td>Normal</td>\n",
       "      <td>156</td>\n",
       "      <td>N</td>\n",
       "      <td>1.0</td>\n",
       "      <td>Flat</td>\n",
       "      <td>1</td>\n",
       "    </tr>\n",
       "    <tr>\n",
       "      <th>2</th>\n",
       "      <td>37</td>\n",
       "      <td>M</td>\n",
       "      <td>ATA</td>\n",
       "      <td>130</td>\n",
       "      <td>283</td>\n",
       "      <td>0</td>\n",
       "      <td>ST</td>\n",
       "      <td>98</td>\n",
       "      <td>N</td>\n",
       "      <td>0.0</td>\n",
       "      <td>Up</td>\n",
       "      <td>0</td>\n",
       "    </tr>\n",
       "    <tr>\n",
       "      <th>3</th>\n",
       "      <td>48</td>\n",
       "      <td>F</td>\n",
       "      <td>ASY</td>\n",
       "      <td>138</td>\n",
       "      <td>214</td>\n",
       "      <td>0</td>\n",
       "      <td>Normal</td>\n",
       "      <td>108</td>\n",
       "      <td>Y</td>\n",
       "      <td>1.5</td>\n",
       "      <td>Flat</td>\n",
       "      <td>1</td>\n",
       "    </tr>\n",
       "    <tr>\n",
       "      <th>4</th>\n",
       "      <td>54</td>\n",
       "      <td>M</td>\n",
       "      <td>NAP</td>\n",
       "      <td>150</td>\n",
       "      <td>195</td>\n",
       "      <td>0</td>\n",
       "      <td>Normal</td>\n",
       "      <td>122</td>\n",
       "      <td>N</td>\n",
       "      <td>0.0</td>\n",
       "      <td>Up</td>\n",
       "      <td>0</td>\n",
       "    </tr>\n",
       "    <tr>\n",
       "      <th>5</th>\n",
       "      <td>39</td>\n",
       "      <td>M</td>\n",
       "      <td>NAP</td>\n",
       "      <td>120</td>\n",
       "      <td>339</td>\n",
       "      <td>0</td>\n",
       "      <td>Normal</td>\n",
       "      <td>170</td>\n",
       "      <td>N</td>\n",
       "      <td>0.0</td>\n",
       "      <td>Up</td>\n",
       "      <td>0</td>\n",
       "    </tr>\n",
       "    <tr>\n",
       "      <th>6</th>\n",
       "      <td>45</td>\n",
       "      <td>F</td>\n",
       "      <td>ATA</td>\n",
       "      <td>130</td>\n",
       "      <td>237</td>\n",
       "      <td>0</td>\n",
       "      <td>Normal</td>\n",
       "      <td>170</td>\n",
       "      <td>N</td>\n",
       "      <td>0.0</td>\n",
       "      <td>Up</td>\n",
       "      <td>0</td>\n",
       "    </tr>\n",
       "    <tr>\n",
       "      <th>7</th>\n",
       "      <td>54</td>\n",
       "      <td>M</td>\n",
       "      <td>ATA</td>\n",
       "      <td>110</td>\n",
       "      <td>208</td>\n",
       "      <td>0</td>\n",
       "      <td>Normal</td>\n",
       "      <td>142</td>\n",
       "      <td>N</td>\n",
       "      <td>0.0</td>\n",
       "      <td>Up</td>\n",
       "      <td>0</td>\n",
       "    </tr>\n",
       "    <tr>\n",
       "      <th>8</th>\n",
       "      <td>37</td>\n",
       "      <td>M</td>\n",
       "      <td>ASY</td>\n",
       "      <td>140</td>\n",
       "      <td>207</td>\n",
       "      <td>0</td>\n",
       "      <td>Normal</td>\n",
       "      <td>130</td>\n",
       "      <td>Y</td>\n",
       "      <td>1.5</td>\n",
       "      <td>Flat</td>\n",
       "      <td>1</td>\n",
       "    </tr>\n",
       "    <tr>\n",
       "      <th>9</th>\n",
       "      <td>48</td>\n",
       "      <td>F</td>\n",
       "      <td>ATA</td>\n",
       "      <td>120</td>\n",
       "      <td>284</td>\n",
       "      <td>0</td>\n",
       "      <td>Normal</td>\n",
       "      <td>120</td>\n",
       "      <td>N</td>\n",
       "      <td>0.0</td>\n",
       "      <td>Up</td>\n",
       "      <td>0</td>\n",
       "    </tr>\n",
       "  </tbody>\n",
       "</table>\n",
       "</div>"
      ],
      "text/plain": [
       "   Age Sex ChestPainType  RestingBP  Cholesterol  FastingBS RestingECG  MaxHR  \\\n",
       "0   40   M           ATA        140          289          0     Normal    172   \n",
       "1   49   F           NAP        160          180          0     Normal    156   \n",
       "2   37   M           ATA        130          283          0         ST     98   \n",
       "3   48   F           ASY        138          214          0     Normal    108   \n",
       "4   54   M           NAP        150          195          0     Normal    122   \n",
       "5   39   M           NAP        120          339          0     Normal    170   \n",
       "6   45   F           ATA        130          237          0     Normal    170   \n",
       "7   54   M           ATA        110          208          0     Normal    142   \n",
       "8   37   M           ASY        140          207          0     Normal    130   \n",
       "9   48   F           ATA        120          284          0     Normal    120   \n",
       "\n",
       "  ExerciseAngina  Oldpeak ST_Slope  HeartDisease  \n",
       "0              N      0.0       Up             0  \n",
       "1              N      1.0     Flat             1  \n",
       "2              N      0.0       Up             0  \n",
       "3              Y      1.5     Flat             1  \n",
       "4              N      0.0       Up             0  \n",
       "5              N      0.0       Up             0  \n",
       "6              N      0.0       Up             0  \n",
       "7              N      0.0       Up             0  \n",
       "8              Y      1.5     Flat             1  \n",
       "9              N      0.0       Up             0  "
      ]
     },
     "execution_count": 3,
     "metadata": {},
     "output_type": "execute_result"
    }
   ],
   "source": [
    "data.head(10)"
   ]
  },
  {
   "cell_type": "code",
   "execution_count": 4,
   "id": "58d8b99f",
   "metadata": {},
   "outputs": [
    {
     "name": "stdout",
     "output_type": "stream",
     "text": [
      "<class 'pandas.core.frame.DataFrame'>\n",
      "RangeIndex: 918 entries, 0 to 917\n",
      "Data columns (total 12 columns):\n",
      " #   Column          Non-Null Count  Dtype  \n",
      "---  ------          --------------  -----  \n",
      " 0   Age             918 non-null    int64  \n",
      " 1   Sex             918 non-null    object \n",
      " 2   ChestPainType   918 non-null    object \n",
      " 3   RestingBP       918 non-null    int64  \n",
      " 4   Cholesterol     918 non-null    int64  \n",
      " 5   FastingBS       918 non-null    int64  \n",
      " 6   RestingECG      918 non-null    object \n",
      " 7   MaxHR           918 non-null    int64  \n",
      " 8   ExerciseAngina  918 non-null    object \n",
      " 9   Oldpeak         918 non-null    float64\n",
      " 10  ST_Slope        918 non-null    object \n",
      " 11  HeartDisease    918 non-null    int64  \n",
      "dtypes: float64(1), int64(6), object(5)\n",
      "memory usage: 86.2+ KB\n"
     ]
    }
   ],
   "source": [
    "data.info()"
   ]
  },
  {
   "cell_type": "code",
   "execution_count": 5,
   "id": "6758095c",
   "metadata": {},
   "outputs": [
    {
     "data": {
      "text/plain": [
       "<AxesSubplot:title={'center':'Analyse du type des colonnes'}, ylabel='None'>"
      ]
     },
     "execution_count": 5,
     "metadata": {},
     "output_type": "execute_result"
    },
    {
     "data": {
      "image/png": "[encoded data removed]",
      "text/plain": [
       "<Figure size 432x432 with 1 Axes>"
      ]
     },
     "metadata": {},
     "output_type": "display_data"
    }
   ],
   "source": [
    "# Représentation de la nature des colonnes\n",
    "\n",
    "# Définition titre graphique\n",
    "\n",
    "title = {\"family\": \"arial\",\n",
    "              \"color\":  \"black\",\n",
    "              \"weight\": \"bold\",\n",
    "              \"size\": 18}\n",
    "\n",
    "plt.figure(figsize = (6,6))\n",
    "data.dtypes.value_counts().plot(kind = 'pie',\n",
    "                               autopct=\"%1.1f%%\", title = \"Analyse du type des colonnes\")"
   ]
  },
  {
   "cell_type": "code",
   "execution_count": 6,
   "id": "7cbff538",
   "metadata": {},
   "outputs": [
    {
     "data": {
      "text/plain": [
       "Text(0.5, 1.0, \"Représentation de l'âge des patients\")"
      ]
     },
     "execution_count": 6,
     "metadata": {},
     "output_type": "execute_result"
    },
    {
     "data": {
      "image/png": "[encoded data removed]",
      "text/plain": [
       "<Figure size 360x360 with 1 Axes>"
      ]
     },
     "metadata": {
      "needs_background": "light"
     },
     "output_type": "display_data"
    }
   ],
   "source": [
    "# Analyse colonne Age\n",
    "\n",
    "data['Age'].nunique()\n",
    "\n",
    "sns.displot(x = data['Age'], data = data,\n",
    "           kde = True)\n",
    "plt.title(\"Représentation de l'âge des patients\",\n",
    "         fontdict = title)"
   ]
  },
  {
   "cell_type": "markdown",
   "id": "fd3075f6",
   "metadata": {},
   "source": [
    "La majorité des patients sont entre 40 et 60 ans avec une forte présence des patients ayant environ 50 ans."
   ]
  },
  {
   "cell_type": "code",
   "execution_count": 7,
   "id": "874cc141",
   "metadata": {},
   "outputs": [
    {
     "data": {
      "text/plain": [
       "Text(0.5, 1.0, 'Représentation du sexe des patients')"
      ]
     },
     "execution_count": 7,
     "metadata": {},
     "output_type": "execute_result"
    },
    {
     "data": {
      "image/png": "[encoded data removed]",
      "text/plain": [
       "<Figure size 720x576 with 1 Axes>"
      ]
     },
     "metadata": {
      "needs_background": "light"
     },
     "output_type": "display_data"
    }
   ],
   "source": [
    "# Analyse colonne sexe\n",
    "\n",
    "plt.figure(figsize = (10,8))\n",
    "sns.countplot(x = data['Sex'], data = data)\n",
    "plt.title('Représentation du sexe des patients',\n",
    "         fontdict = title)"
   ]
  },
  {
   "cell_type": "markdown",
   "id": "cd348975",
   "metadata": {},
   "source": [
    "Nous pouvons constater une très forte présente du sexe masculin dans l'analyse."
   ]
  },
  {
   "cell_type": "code",
   "execution_count": 8,
   "id": "bc1e6706",
   "metadata": {},
   "outputs": [
    {
     "data": {
      "text/plain": [
       "Text(0.5, 1.0, \"Représentation de l'âge des patients selon le sexe\")"
      ]
     },
     "execution_count": 8,
     "metadata": {},
     "output_type": "execute_result"
    },
    {
     "data": {
      "text/plain": [
       "<Figure size 720x576 with 0 Axes>"
      ]
     },
     "metadata": {},
     "output_type": "display_data"
    },
    {
     "data": {
      "image/png": "[encoded data removed]",
      "text/plain": [
       "<Figure size 404.625x360 with 1 Axes>"
      ]
     },
     "metadata": {
      "needs_background": "light"
     },
     "output_type": "display_data"
    }
   ],
   "source": [
    "\n",
    "plt.figure(figsize = (10,8))\n",
    "sns.displot(x = data['Age'], data = data, hue = data['Sex'],\n",
    "           kde = True, discrete = True)\n",
    "plt.title(\"Représentation de l'âge des patients selon le sexe\",\n",
    "         fontdict = title)"
   ]
  },
  {
   "cell_type": "code",
   "execution_count": 9,
   "id": "e09c7284",
   "metadata": {},
   "outputs": [
    {
     "data": {
      "text/plain": [
       "ASY    496\n",
       "NAP    203\n",
       "ATA    173\n",
       "TA      46\n",
       "Name: ChestPainType, dtype: int64"
      ]
     },
     "execution_count": 9,
     "metadata": {},
     "output_type": "execute_result"
    }
   ],
   "source": [
    "# Analyse colonne ChestPainType\n",
    "\n",
    "data['ChestPainType'].value_counts()"
   ]
  },
  {
   "cell_type": "markdown",
   "id": "aa130976",
   "metadata": {},
   "source": [
    "TA: Typical Angina, ATA: Atypical Angina, NAP: Non-Anginal Pain, ASY: Asymptomatic"
   ]
  },
  {
   "cell_type": "code",
   "execution_count": 10,
   "id": "d5beb06f",
   "metadata": {},
   "outputs": [
    {
     "data": {
      "text/plain": [
       "Text(0.5, 1.0, 'Représentation des douleurs en fonction du sexe')"
      ]
     },
     "execution_count": 10,
     "metadata": {},
     "output_type": "execute_result"
    },
    {
     "data": {
      "image/png": "[encoded data removed]",
      "text/plain": [
       "<Figure size 720x720 with 1 Axes>"
      ]
     },
     "metadata": {
      "needs_background": "light"
     },
     "output_type": "display_data"
    }
   ],
   "source": [
    "plt.figure(figsize = (10,10))\n",
    "\n",
    "sns.countplot(x = data['Sex'], data = data, hue = data['ChestPainType'])\n",
    "plt.title(\"Représentation des douleurs en fonction du sexe\",\n",
    "         fontdict = title)"
   ]
  },
  {
   "cell_type": "markdown",
   "id": "00a6b1fc",
   "metadata": {},
   "source": [
    "Nous pouvons constater que la majorité des patients ne présentent pas d'angines ou sans douleurs spécifiques.\n",
    "Une faible partie des patients (environ 210 patients) ont présenté une angine de poitrine typique ou atypiques."
   ]
  },
  {
   "cell_type": "code",
   "execution_count": 11,
   "id": "6b41c527",
   "metadata": {},
   "outputs": [
    {
     "data": {
      "text/plain": [
       "Index(['Age', 'Sex', 'ChestPainType', 'RestingBP', 'Cholesterol', 'FastingBS',\n",
       "       'RestingECG', 'MaxHR', 'ExerciseAngina', 'Oldpeak', 'ST_Slope',\n",
       "       'HeartDisease'],\n",
       "      dtype='object')"
      ]
     },
     "execution_count": 11,
     "metadata": {},
     "output_type": "execute_result"
    }
   ],
   "source": [
    "data.columns"
   ]
  },
  {
   "cell_type": "code",
   "execution_count": 12,
   "id": "11006027",
   "metadata": {},
   "outputs": [
    {
     "data": {
      "text/plain": [
       "120    132\n",
       "130    118\n",
       "140    107\n",
       "110     58\n",
       "150     55\n",
       "      ... \n",
       "185      1\n",
       "98       1\n",
       "92       1\n",
       "113      1\n",
       "164      1\n",
       "Name: RestingBP, Length: 67, dtype: int64"
      ]
     },
     "execution_count": 12,
     "metadata": {},
     "output_type": "execute_result"
    }
   ],
   "source": [
    "data['RestingBP'].value_counts()"
   ]
  },
  {
   "cell_type": "code",
   "execution_count": 13,
   "id": "09eebdc2",
   "metadata": {},
   "outputs": [
    {
     "data": {
      "text/plain": [
       "Text(0.5, 1.0, 'Représentation du niveau de cholestérol')"
      ]
     },
     "execution_count": 13,
     "metadata": {},
     "output_type": "execute_result"
    },
    {
     "data": {
      "text/plain": [
       "<Figure size 720x576 with 0 Axes>"
      ]
     },
     "metadata": {},
     "output_type": "display_data"
    },
    {
     "data": {
      "image/png": "[encoded data removed]",
      "text/plain": [
       "<Figure size 360x360 with 1 Axes>"
      ]
     },
     "metadata": {
      "needs_background": "light"
     },
     "output_type": "display_data"
    }
   ],
   "source": [
    "# Analyse Cholesterol\n",
    "\n",
    "data['Cholesterol'].value_counts()\n",
    "\n",
    "plt.figure(figsize = (10,8))\n",
    "sns.displot(x = data['Cholesterol'], data = data)\n",
    "plt.title(\"Représentation du niveau de cholestérol\",\n",
    "         fontdict = title)"
   ]
  },
  {
   "cell_type": "code",
   "execution_count": 14,
   "id": "d69c82dc",
   "metadata": {},
   "outputs": [
    {
     "data": {
      "text/plain": [
       "Text(0.5, 1.0, 'Représentation de la fréquence cardiaque des patients')"
      ]
     },
     "execution_count": 14,
     "metadata": {},
     "output_type": "execute_result"
    },
    {
     "data": {
      "text/plain": [
       "<Figure size 720x576 with 0 Axes>"
      ]
     },
     "metadata": {},
     "output_type": "display_data"
    },
    {
     "data": {
      "image/png": "[encoded data removed]",
      "text/plain": [
       "<Figure size 360x360 with 1 Axes>"
      ]
     },
     "metadata": {
      "needs_background": "light"
     },
     "output_type": "display_data"
    }
   ],
   "source": [
    "# Analyse MaxHR\n",
    "\n",
    "data['MaxHR'].value_counts()\n",
    "\n",
    "plt.figure(figsize = (10,8))\n",
    "sns.displot(x = data['MaxHR'], data = data)\n",
    "plt.title(\"Représentation de la fréquence cardiaque des patients\",\n",
    "         fontdict = title)"
   ]
  },
  {
   "cell_type": "code",
   "execution_count": 15,
   "id": "9fd1b99a",
   "metadata": {},
   "outputs": [
    {
     "data": {
      "text/plain": [
       "1    508\n",
       "0    410\n",
       "Name: HeartDisease, dtype: int64"
      ]
     },
     "execution_count": 15,
     "metadata": {},
     "output_type": "execute_result"
    }
   ],
   "source": [
    "# Analyse target\n",
    "\n",
    "data['HeartDisease'].value_counts()"
   ]
  },
  {
   "cell_type": "code",
   "execution_count": 16,
   "id": "da44ecfc",
   "metadata": {},
   "outputs": [
    {
     "data": {
      "text/plain": [
       "Text(0.5, 1.0, 'Représentation des risques selon le sexe des patients')"
      ]
     },
     "execution_count": 16,
     "metadata": {},
     "output_type": "execute_result"
    },
    {
     "data": {
      "image/png": "[encoded data removed]",
      "text/plain": [
       "<Figure size 720x720 with 1 Axes>"
      ]
     },
     "metadata": {
      "needs_background": "light"
     },
     "output_type": "display_data"
    }
   ],
   "source": [
    "# Analyse target selon le sexe des patients\n",
    "\n",
    "plt.figure(figsize = (10,10))\n",
    "\n",
    "sns.countplot(x = data['HeartDisease'], data = data, hue = data['Sex'])\n",
    "plt.title(\"Représentation des risques selon le sexe des patients\",\n",
    "         fontdict = title)"
   ]
  },
  {
   "cell_type": "markdown",
   "id": "293358e4",
   "metadata": {},
   "source": [
    "Dans le cadre de notre analyse des données.\n",
    "\n",
    "Nous pouvons déjà constaté une plus forte présence des patients masculin que féminin. L'âge le plus représenté oscille entre 40 et 70 ans.\n",
    "Sur les différentes analyses que nous avons effectué, nous avons remarqué qu'une grande partie des patients ne semblent pas avoir eu de soucis d'angine hormis une partie des patients avec des problèmes plus importants.\n",
    "\n",
    "Il semble que le cholestérol impacte cette notion d'angine de poitrine et par conséquent un risque d'insuffisance cardiaque.\n",
    "\n",
    "Notre objectif ici est de déterminer le rôle de nos variables dans notre problématique.\n",
    "\n",
    "Donéravant, nous allons travailler sur la modélisation de notre problématique.\n",
    "\n",
    "Le but sera de déterminer si notre modèle a la capacité de prédire un risque d'insuffisance à travers les informations obtenues."
   ]
  },
  {
   "cell_type": "markdown",
   "id": "e15d55be",
   "metadata": {},
   "source": [
    "### III. Modélisation"
   ]
  },
  {
   "cell_type": "markdown",
   "id": "bc8cca0e",
   "metadata": {},
   "source": [
    "Nous sommes ici sur une problématique de classification. Nous allons utiliser des modèles liés à cette problématique.\n",
    "\n",
    "Nous allons tester les modèles suivants :\n",
    "- Régression Logistique,\n",
    "- Naive Bayes,\n",
    "- Arbre de décision,\n",
    "- SVM\n",
    "\n",
    "Pour effectuer notre modélisation, nous allons procéder à la méthodologie suivante :\n",
    "- LabelEncoder pour les colonnes objets,\n",
    "- Séparation de notre jeu de données en Train/test,\n",
    "- Entrainement de nos modèles,\n",
    "- Analyse du modèle le plus performant.\n",
    "- Sélection du meilleur modèle et optimisation de ce dernier."
   ]
  },
  {
   "cell_type": "markdown",
   "id": "05f6c0fe",
   "metadata": {},
   "source": [
    "### A. Entrainement et sélection des modèles"
   ]
  },
  {
   "cell_type": "code",
   "execution_count": 17,
   "id": "132e693f",
   "metadata": {},
   "outputs": [
    {
     "data": {
      "text/html": [
       "<div>\n",
       "<style scoped>\n",
       "    .dataframe tbody tr th:only-of-type {\n",
       "        vertical-align: middle;\n",
       "    }\n",
       "\n",
       "    .dataframe tbody tr th {\n",
       "        vertical-align: top;\n",
       "    }\n",
       "\n",
       "    .dataframe thead th {\n",
       "        text-align: right;\n",
       "    }\n",
       "</style>\n",
       "<table border=\"1\" class=\"dataframe\">\n",
       "  <thead>\n",
       "    <tr style=\"text-align: right;\">\n",
       "      <th></th>\n",
       "      <th>Age</th>\n",
       "      <th>Sex</th>\n",
       "      <th>ChestPainType</th>\n",
       "      <th>RestingBP</th>\n",
       "      <th>Cholesterol</th>\n",
       "      <th>FastingBS</th>\n",
       "      <th>RestingECG</th>\n",
       "      <th>MaxHR</th>\n",
       "      <th>ExerciseAngina</th>\n",
       "      <th>Oldpeak</th>\n",
       "      <th>ST_Slope</th>\n",
       "      <th>HeartDisease</th>\n",
       "    </tr>\n",
       "  </thead>\n",
       "  <tbody>\n",
       "    <tr>\n",
       "      <th>0</th>\n",
       "      <td>40</td>\n",
       "      <td>1</td>\n",
       "      <td>1</td>\n",
       "      <td>140</td>\n",
       "      <td>289</td>\n",
       "      <td>0</td>\n",
       "      <td>1</td>\n",
       "      <td>172</td>\n",
       "      <td>0</td>\n",
       "      <td>0.0</td>\n",
       "      <td>2</td>\n",
       "      <td>0</td>\n",
       "    </tr>\n",
       "    <tr>\n",
       "      <th>1</th>\n",
       "      <td>49</td>\n",
       "      <td>0</td>\n",
       "      <td>2</td>\n",
       "      <td>160</td>\n",
       "      <td>180</td>\n",
       "      <td>0</td>\n",
       "      <td>1</td>\n",
       "      <td>156</td>\n",
       "      <td>0</td>\n",
       "      <td>1.0</td>\n",
       "      <td>1</td>\n",
       "      <td>1</td>\n",
       "    </tr>\n",
       "    <tr>\n",
       "      <th>2</th>\n",
       "      <td>37</td>\n",
       "      <td>1</td>\n",
       "      <td>1</td>\n",
       "      <td>130</td>\n",
       "      <td>283</td>\n",
       "      <td>0</td>\n",
       "      <td>2</td>\n",
       "      <td>98</td>\n",
       "      <td>0</td>\n",
       "      <td>0.0</td>\n",
       "      <td>2</td>\n",
       "      <td>0</td>\n",
       "    </tr>\n",
       "    <tr>\n",
       "      <th>3</th>\n",
       "      <td>48</td>\n",
       "      <td>0</td>\n",
       "      <td>0</td>\n",
       "      <td>138</td>\n",
       "      <td>214</td>\n",
       "      <td>0</td>\n",
       "      <td>1</td>\n",
       "      <td>108</td>\n",
       "      <td>1</td>\n",
       "      <td>1.5</td>\n",
       "      <td>1</td>\n",
       "      <td>1</td>\n",
       "    </tr>\n",
       "    <tr>\n",
       "      <th>4</th>\n",
       "      <td>54</td>\n",
       "      <td>1</td>\n",
       "      <td>2</td>\n",
       "      <td>150</td>\n",
       "      <td>195</td>\n",
       "      <td>0</td>\n",
       "      <td>1</td>\n",
       "      <td>122</td>\n",
       "      <td>0</td>\n",
       "      <td>0.0</td>\n",
       "      <td>2</td>\n",
       "      <td>0</td>\n",
       "    </tr>\n",
       "  </tbody>\n",
       "</table>\n",
       "</div>"
      ],
      "text/plain": [
       "   Age  Sex  ChestPainType  RestingBP  Cholesterol  FastingBS  RestingECG  \\\n",
       "0   40    1              1        140          289          0           1   \n",
       "1   49    0              2        160          180          0           1   \n",
       "2   37    1              1        130          283          0           2   \n",
       "3   48    0              0        138          214          0           1   \n",
       "4   54    1              2        150          195          0           1   \n",
       "\n",
       "   MaxHR  ExerciseAngina  Oldpeak  ST_Slope  HeartDisease  \n",
       "0    172               0      0.0         2             0  \n",
       "1    156               0      1.0         1             1  \n",
       "2     98               0      0.0         2             0  \n",
       "3    108               1      1.5         1             1  \n",
       "4    122               0      0.0         2             0  "
      ]
     },
     "execution_count": 17,
     "metadata": {},
     "output_type": "execute_result"
    }
   ],
   "source": [
    "# 1. Label Encoder\n",
    "\n",
    "\n",
    "label_encoder = preprocessing.LabelEncoder()\n",
    "data['Sex'] = label_encoder.fit_transform(data['Sex'])\n",
    "data['RestingECG'] = label_encoder.fit_transform(data['RestingECG'])\n",
    "data['ChestPainType'] = label_encoder.fit_transform(data['ChestPainType'])\n",
    "data['ExerciseAngina'] = label_encoder.fit_transform(data['ExerciseAngina'])\n",
    "data['ST_Slope'] = label_encoder.fit_transform(data['ST_Slope'])\n",
    "\n",
    "data.head()"
   ]
  },
  {
   "cell_type": "code",
   "execution_count": 18,
   "id": "90ac64dc",
   "metadata": {},
   "outputs": [],
   "source": [
    "# Création de notre jeu de données\n",
    "\n",
    "X = data[['Age', 'Sex', 'ChestPainType', 'RestingBP', 'Cholesterol', 'FastingBS',\n",
    "       'RestingECG', 'MaxHR', 'ExerciseAngina', 'Oldpeak', 'ST_Slope']]\n",
    "y = data['HeartDisease']"
   ]
  },
  {
   "cell_type": "code",
   "execution_count": 19,
   "id": "b2650429",
   "metadata": {},
   "outputs": [
    {
     "name": "stdout",
     "output_type": "stream",
     "text": [
      "Données apprentissage (688, 11)\n",
      "Données de test (230, 11)\n"
     ]
    }
   ],
   "source": [
    "# Séparation du jeu de données\n",
    "\n",
    "X_train, X_test, y_train, y_test = train_test_split(X, y, test_size = 0.25, random_state = 100)\n",
    "\n",
    "print ('Données apprentissage', X_train.shape)\n",
    "print ('Données de test', X_test.shape)"
   ]
  },
  {
   "cell_type": "markdown",
   "id": "48408998",
   "metadata": {},
   "source": [
    "##### 1. Régression Logistique"
   ]
  },
  {
   "cell_type": "code",
   "execution_count": 20,
   "id": "6703ea9d",
   "metadata": {},
   "outputs": [
    {
     "name": "stdout",
     "output_type": "stream",
     "text": [
      "Le score d'apprentissage est de :  0.8531976744186046\n",
      "Le score de test est de :  0.8565217391304348\n"
     ]
    }
   ],
   "source": [
    "# Création du modèle\n",
    "model1 = LogisticRegression()\n",
    "\n",
    "# Entrainement du modèle\n",
    "model1.fit(X_train, y_train)\n",
    "\n",
    "# Prédiction\n",
    "prediction = model1.predict(X_test)\n",
    "\n",
    "# on va afficher le % d'apprentissage du modèle\n",
    "A1 = model1.score(X_train, y_train)\n",
    "print (\"Le score d'apprentissage est de : \", A1)\n",
    "\n",
    "\n",
    "R1 = model1.score(X_test, y_test)\n",
    "print(\"Le score de test est de : \",R1)\n"
   ]
  },
  {
   "cell_type": "code",
   "execution_count": 21,
   "id": "13bdb346",
   "metadata": {},
   "outputs": [
    {
     "data": {
      "text/plain": [
       "array([[ 81,  16],\n",
       "       [ 17, 116]], dtype=int64)"
      ]
     },
     "execution_count": 21,
     "metadata": {},
     "output_type": "execute_result"
    }
   ],
   "source": [
    "# Utilisation de la fonction confusion matrix pour analyser les erreurs\n",
    "\n",
    "confusion_matrix(y_test, model1.predict(X_test))"
   ]
  },
  {
   "cell_type": "code",
   "execution_count": 22,
   "id": "9af8baae",
   "metadata": {},
   "outputs": [],
   "source": [
    "# MAE\n",
    "\n",
    "MAE1 = mean_absolute_error(y_test, prediction)\n",
    "      \n",
    "# MSE\n",
    "\n",
    "MSE1 = np.sqrt(mean_squared_error(y_test, prediction))"
   ]
  },
  {
   "cell_type": "markdown",
   "id": "cf8fca5e",
   "metadata": {},
   "source": [
    "#### 2. Naive Bayes"
   ]
  },
  {
   "cell_type": "code",
   "execution_count": 23,
   "id": "714d7adf",
   "metadata": {},
   "outputs": [
    {
     "name": "stdout",
     "output_type": "stream",
     "text": [
      "Le score d'apprentissage est de :  0.8575581395348837\n",
      "Le score de test est de :  0.8478260869565217\n"
     ]
    }
   ],
   "source": [
    "# Création du modèle\n",
    "model2 = GaussianNB()\n",
    "\n",
    "# Entrainement du modèle\n",
    "model2.fit(X_train, y_train)\n",
    "\n",
    "# Prédiction\n",
    "prediction = model2.predict(X_test)\n",
    "\n",
    "# on va afficher le % d'apprentissage du modèle\n",
    "A2 = model2.score(X_train, y_train)\n",
    "print (\"Le score d'apprentissage est de : \", A2)\n",
    "\n",
    "\n",
    "R2 = model2.score(X_test, y_test)\n",
    "print(\"Le score de test est de : \",R2)"
   ]
  },
  {
   "cell_type": "code",
   "execution_count": 24,
   "id": "29491004",
   "metadata": {},
   "outputs": [
    {
     "data": {
      "text/plain": [
       "array([[ 84,  13],\n",
       "       [ 22, 111]], dtype=int64)"
      ]
     },
     "execution_count": 24,
     "metadata": {},
     "output_type": "execute_result"
    }
   ],
   "source": [
    "# Utilisation de la fonction confusion matrix pour analyser les erreurs\n",
    "\n",
    "confusion_matrix(y_test, model2.predict(X_test))"
   ]
  },
  {
   "cell_type": "code",
   "execution_count": 25,
   "id": "a1a0f732",
   "metadata": {},
   "outputs": [],
   "source": [
    "# MAE\n",
    "\n",
    "MAE2 = mean_absolute_error(y_test, prediction)\n",
    "      \n",
    "# MSE\n",
    "\n",
    "MSE2 = np.sqrt(mean_squared_error(y_test, prediction))"
   ]
  },
  {
   "cell_type": "markdown",
   "id": "7d164ef7",
   "metadata": {},
   "source": [
    "#### 3. Random Forest"
   ]
  },
  {
   "cell_type": "code",
   "execution_count": 26,
   "id": "01cf4736",
   "metadata": {},
   "outputs": [
    {
     "name": "stdout",
     "output_type": "stream",
     "text": [
      "Le score d'apprentissage est de :  1.0\n",
      "Le score de test est de :  0.8826086956521739\n"
     ]
    }
   ],
   "source": [
    "# Création du modèle\n",
    "model3 = RandomForestClassifier()\n",
    "\n",
    "# Entrainement du modèle\n",
    "model3.fit(X_train, y_train)\n",
    "\n",
    "# Analyse de nos prédictions\n",
    "prediction3 = model3.predict(X_test)\n",
    "\n",
    "# on va afficher le % d'apprentissage du modèle\n",
    "A3 = model3.score(X_train, y_train)\n",
    "print (\"Le score d'apprentissage est de : \", A3)\n",
    "\n",
    "\n",
    "R3 = model3.score(X_test, y_test)\n",
    "print(\"Le score de test est de : \",R3)"
   ]
  },
  {
   "cell_type": "code",
   "execution_count": 27,
   "id": "ed49c5e7",
   "metadata": {},
   "outputs": [
    {
     "data": {
      "text/plain": [
       "array([[ 82,  15],\n",
       "       [ 12, 121]], dtype=int64)"
      ]
     },
     "execution_count": 27,
     "metadata": {},
     "output_type": "execute_result"
    }
   ],
   "source": [
    "# Utilisation de la fonction confusion matrix pour analyser les erreurs\n",
    "\n",
    "confusion_matrix(y_test, model3.predict(X_test))"
   ]
  },
  {
   "cell_type": "code",
   "execution_count": 28,
   "id": "521071b6",
   "metadata": {},
   "outputs": [],
   "source": [
    "# MAE (Mean Absolute Error)\n",
    "\n",
    "MAE3 = mean_absolute_error(y_test, prediction3)\n",
    "      \n",
    "# MSE (Mean Squarred Error)\n",
    "\n",
    "MSE3 = mean_squared_error(y_test, prediction3)"
   ]
  },
  {
   "cell_type": "markdown",
   "id": "253b99b9",
   "metadata": {},
   "source": [
    "#### 4. Sector Vector Machine"
   ]
  },
  {
   "cell_type": "code",
   "execution_count": 29,
   "id": "4351a097",
   "metadata": {},
   "outputs": [
    {
     "name": "stdout",
     "output_type": "stream",
     "text": [
      "Le score d'apprentissage est de :  1.0\n",
      "Le score de test est de :  0.7086956521739131\n"
     ]
    }
   ],
   "source": [
    "from sklearn import svm\n",
    "\n",
    "# Création du modèle\n",
    "model4 = svm.SVC()\n",
    "\n",
    "# Entrainement du modèle\n",
    "model4.fit(X_train, y_train)\n",
    "\n",
    "# Analyse de nos prédictions\n",
    "prediction4 = model4.predict(X_test)\n",
    "\n",
    "# on va afficher le % d'apprentissage du modèle\n",
    "A4 = model3.score(X_train, y_train)\n",
    "print (\"Le score d'apprentissage est de : \", A4)\n",
    "\n",
    "\n",
    "R4 = model4.score(X_test, y_test)\n",
    "print(\"Le score de test est de : \",R4)"
   ]
  },
  {
   "cell_type": "code",
   "execution_count": 30,
   "id": "0099eefc",
   "metadata": {},
   "outputs": [
    {
     "data": {
      "text/plain": [
       "array([[67, 30],\n",
       "       [37, 96]], dtype=int64)"
      ]
     },
     "execution_count": 30,
     "metadata": {},
     "output_type": "execute_result"
    }
   ],
   "source": [
    "# Utilisation de la fonction confusion matrix pour analyser les erreurs\n",
    "\n",
    "confusion_matrix(y_test, model4.predict(X_test))"
   ]
  },
  {
   "cell_type": "code",
   "execution_count": 31,
   "id": "143cd1b0",
   "metadata": {},
   "outputs": [],
   "source": [
    "# MAE (Mean Absolute Error)\n",
    "\n",
    "MAE4 = mean_absolute_error(y_test, prediction4)\n",
    "      \n",
    "# MSE (Mean Squarred Error)\n",
    "\n",
    "MSE4 = mean_squared_error(y_test, prediction4)"
   ]
  },
  {
   "cell_type": "markdown",
   "id": "9e329295",
   "metadata": {},
   "source": [
    "### Analyse de nos résultats"
   ]
  },
  {
   "cell_type": "code",
   "execution_count": 32,
   "id": "2bf6cc85",
   "metadata": {},
   "outputs": [
    {
     "data": {
      "text/html": [
       "<div>\n",
       "<style scoped>\n",
       "    .dataframe tbody tr th:only-of-type {\n",
       "        vertical-align: middle;\n",
       "    }\n",
       "\n",
       "    .dataframe tbody tr th {\n",
       "        vertical-align: top;\n",
       "    }\n",
       "\n",
       "    .dataframe thead th {\n",
       "        text-align: right;\n",
       "    }\n",
       "</style>\n",
       "<table border=\"1\" class=\"dataframe\">\n",
       "  <thead>\n",
       "    <tr style=\"text-align: right;\">\n",
       "      <th></th>\n",
       "      <th>Score Apprentissage</th>\n",
       "      <th>Score Test</th>\n",
       "      <th>MAE</th>\n",
       "      <th>MSE</th>\n",
       "    </tr>\n",
       "  </thead>\n",
       "  <tbody>\n",
       "    <tr>\n",
       "      <th>Régression logistique</th>\n",
       "      <td>0.853198</td>\n",
       "      <td>0.856522</td>\n",
       "      <td>0.143478</td>\n",
       "      <td>0.378785</td>\n",
       "    </tr>\n",
       "    <tr>\n",
       "      <th>NaiveBayes</th>\n",
       "      <td>0.857558</td>\n",
       "      <td>0.847826</td>\n",
       "      <td>0.152174</td>\n",
       "      <td>0.390095</td>\n",
       "    </tr>\n",
       "    <tr>\n",
       "      <th>Random Forest</th>\n",
       "      <td>1.000000</td>\n",
       "      <td>0.882609</td>\n",
       "      <td>0.117391</td>\n",
       "      <td>0.117391</td>\n",
       "    </tr>\n",
       "    <tr>\n",
       "      <th>SVM</th>\n",
       "      <td>1.000000</td>\n",
       "      <td>0.708696</td>\n",
       "      <td>0.291304</td>\n",
       "      <td>0.291304</td>\n",
       "    </tr>\n",
       "  </tbody>\n",
       "</table>\n",
       "</div>"
      ],
      "text/plain": [
       "                       Score Apprentissage  Score Test       MAE       MSE\n",
       "Régression logistique             0.853198    0.856522  0.143478  0.378785\n",
       "NaiveBayes                        0.857558    0.847826  0.152174  0.390095\n",
       "Random Forest                     1.000000    0.882609  0.117391  0.117391\n",
       "SVM                               1.000000    0.708696  0.291304  0.291304"
      ]
     },
     "execution_count": 32,
     "metadata": {},
     "output_type": "execute_result"
    }
   ],
   "source": [
    "A = [A1, A2, A3, A4]\n",
    "R = [R1, R2, R3, R4]\n",
    "MAE = [MAE1, MAE2, MAE3, MAE4]\n",
    "MSE = [MSE1, MSE2, MSE3, MSE4]\n",
    "\n",
    "indice = ['Régression logistique','NaiveBayes', 'Random Forest', 'SVM']\n",
    "\n",
    "\n",
    "data_analyse = pd.DataFrame ({'Score Apprentissage': A,'Score Test' : R, 'MAE':MAE, 'MSE':MSE}, index = indice)\n",
    "data_analyse"
   ]
  },
  {
   "cell_type": "markdown",
   "id": "f9a46784",
   "metadata": {},
   "source": [
    "Nous pouvons constater que parmi les 4 modèles que nous avons choisi, la Régression Logistique mais également le Random Forest présentent les meilleurs résultats.\n",
    "\n",
    "Nous allons prendre la décision d'optimiser ces deux modèles afin de déterminer le modèle optimal pour notre projet.\n",
    "Le Naive Bayes présente également de très bons résultats mais nous allons rester sur une optimisation de ces deux modèles."
   ]
  },
  {
   "cell_type": "markdown",
   "id": "7acd4649",
   "metadata": {},
   "source": [
    "### B. Optimisation"
   ]
  },
  {
   "cell_type": "markdown",
   "id": "1f00959a",
   "metadata": {},
   "source": [
    "### 1. Régression logistique"
   ]
  },
  {
   "cell_type": "markdown",
   "id": "a1d2599f",
   "metadata": {},
   "source": [
    "##### A. Cross Validation"
   ]
  },
  {
   "cell_type": "code",
   "execution_count": 33,
   "id": "d1390f3c",
   "metadata": {},
   "outputs": [
    {
     "data": {
      "text/plain": [
       "0.8487851662404091"
      ]
     },
     "execution_count": 33,
     "metadata": {},
     "output_type": "execute_result"
    }
   ],
   "source": [
    "cross_val_score(LogisticRegression(), X_train, y_train, cv = 10).mean()"
   ]
  },
  {
   "cell_type": "code",
   "execution_count": 34,
   "id": "815cbb0b",
   "metadata": {},
   "outputs": [],
   "source": [
    "C = [1,10,100,1000, 10000, 100000]\n",
    "score_apprentissage, score_validation = validation_curve(model1, X_train, y_train,\n",
    "                                                        param_name = 'C',\n",
    "                                                        param_range = C, cv = 10)"
   ]
  },
  {
   "cell_type": "code",
   "execution_count": 35,
   "id": "a317634c",
   "metadata": {},
   "outputs": [
    {
     "data": {
      "text/plain": [
       "array([0.84878517, 0.84878517, 0.84733589, 0.84878517, 0.85023444,\n",
       "       0.84878517])"
      ]
     },
     "execution_count": 35,
     "metadata": {},
     "output_type": "execute_result"
    }
   ],
   "source": [
    "score_validation.mean(axis = 1)"
   ]
  },
  {
   "cell_type": "code",
   "execution_count": 36,
   "id": "61d9c0c2",
   "metadata": {},
   "outputs": [
    {
     "data": {
      "text/plain": [
       "<matplotlib.legend.Legend at 0x1f2e4a49b50>"
      ]
     },
     "execution_count": 36,
     "metadata": {},
     "output_type": "execute_result"
    },
    {
     "data": {
      "image/png": "[encoded data removed]",
      "text/plain": [
       "<Figure size 432x288 with 1 Axes>"
      ]
     },
     "metadata": {
      "needs_background": "light"
     },
     "output_type": "display_data"
    }
   ],
   "source": [
    "plt.plot(C, score_validation.mean(axis = 1), marker = 'v', label = 'Score validation')\n",
    "plt.plot(C, score_apprentissage.mean(axis = 1), marker = 'v', label = 'Score apprentissage')\n",
    "plt.legend()"
   ]
  },
  {
   "cell_type": "markdown",
   "id": "2e81dd52",
   "metadata": {},
   "source": [
    "#### 2. GridSearch CV"
   ]
  },
  {
   "cell_type": "code",
   "execution_count": 37,
   "id": "7c90dac9",
   "metadata": {},
   "outputs": [],
   "source": [
    "grid_param = {'C' : [14000,14500, 15000, 15500, 16000, 17000,],\n",
    "             'random_state' : [100, 1000, 2000, 10000]}\n",
    "              \n",
    "grid_search_rl = GridSearchCV(LogisticRegression(), grid_param, cv = 5)"
   ]
  },
  {
   "cell_type": "code",
   "execution_count": 38,
   "id": "e9b96bfb",
   "metadata": {},
   "outputs": [
    {
     "data": {
      "text/html": [
       "<style>#sk-container-id-1 {color: black;background-color: white;}#sk-container-id-1 pre{padding: 0;}#sk-container-id-1 div.sk-toggleable {background-color: white;}#sk-container-id-1 label.sk-toggleable__label {cursor: pointer;display: block;width: 100%;margin-bottom: 0;padding: 0.3em;box-sizing: border-box;text-align: center;}#sk-container-id-1 label.sk-toggleable__label-arrow:before {content: \"▸\";float: left;margin-right: 0.25em;color: #696969;}#sk-container-id-1 label.sk-toggleable__label-arrow:hover:before {color: black;}#sk-container-id-1 div.sk-estimator:hover label.sk-toggleable__label-arrow:before {color: black;}#sk-container-id-1 div.sk-toggleable__content {max-height: 0;max-width: 0;overflow: hidden;text-align: left;background-color: #f0f8ff;}#sk-container-id-1 div.sk-toggleable__content pre {margin: 0.2em;color: black;border-radius: 0.25em;background-color: #f0f8ff;}#sk-container-id-1 input.sk-toggleable__control:checked~div.sk-toggleable__content {max-height: 200px;max-width: 100%;overflow: auto;}#sk-container-id-1 input.sk-toggleable__control:checked~label.sk-toggleable__label-arrow:before {content: \"▾\";}#sk-container-id-1 div.sk-estimator input.sk-toggleable__control:checked~label.sk-toggleable__label {background-color: #d4ebff;}#sk-container-id-1 div.sk-label input.sk-toggleable__control:checked~label.sk-toggleable__label {background-color: #d4ebff;}#sk-container-id-1 input.sk-hidden--visually {border: 0;clip: rect(1px 1px 1px 1px);clip: rect(1px, 1px, 1px, 1px);height: 1px;margin: -1px;overflow: hidden;padding: 0;position: absolute;width: 1px;}#sk-container-id-1 div.sk-estimator {font-family: monospace;background-color: #f0f8ff;border: 1px dotted black;border-radius: 0.25em;box-sizing: border-box;margin-bottom: 0.5em;}#sk-container-id-1 div.sk-estimator:hover {background-color: #d4ebff;}#sk-container-id-1 div.sk-parallel-item::after {content: \"\";width: 100%;border-bottom: 1px solid gray;flex-grow: 1;}#sk-container-id-1 div.sk-label:hover label.sk-toggleable__label {background-color: #d4ebff;}#sk-container-id-1 div.sk-serial::before {content: \"\";position: absolute;border-left: 1px solid gray;box-sizing: border-box;top: 0;bottom: 0;left: 50%;z-index: 0;}#sk-container-id-1 div.sk-serial {display: flex;flex-direction: column;align-items: center;background-color: white;padding-right: 0.2em;padding-left: 0.2em;position: relative;}#sk-container-id-1 div.sk-item {position: relative;z-index: 1;}#sk-container-id-1 div.sk-parallel {display: flex;align-items: stretch;justify-content: center;background-color: white;position: relative;}#sk-container-id-1 div.sk-item::before, #sk-container-id-1 div.sk-parallel-item::before {content: \"\";position: absolute;border-left: 1px solid gray;box-sizing: border-box;top: 0;bottom: 0;left: 50%;z-index: -1;}#sk-container-id-1 div.sk-parallel-item {display: flex;flex-direction: column;z-index: 1;position: relative;background-color: white;}#sk-container-id-1 div.sk-parallel-item:first-child::after {align-self: flex-end;width: 50%;}#sk-container-id-1 div.sk-parallel-item:last-child::after {align-self: flex-start;width: 50%;}#sk-container-id-1 div.sk-parallel-item:only-child::after {width: 0;}#sk-container-id-1 div.sk-dashed-wrapped {border: 1px dashed gray;margin: 0 0.4em 0.5em 0.4em;box-sizing: border-box;padding-bottom: 0.4em;background-color: white;}#sk-container-id-1 div.sk-label label {font-family: monospace;font-weight: bold;display: inline-block;line-height: 1.2em;}#sk-container-id-1 div.sk-label-container {text-align: center;}#sk-container-id-1 div.sk-container {/* jupyter's `normalize.less` sets `[hidden] { display: none; }` but bootstrap.min.css set `[hidden] { display: none !important; }` so we also need the `!important` here to be able to override the default hidden behavior on the sphinx rendered scikit-learn.org. See: https://github.com/scikit-learn/scikit-learn/issues/21755 */display: inline-block !important;position: relative;}#sk-container-id-1 div.sk-text-repr-fallback {display: none;}</style><div id=\"sk-container-id-1\" class=\"sk-top-container\"><div class=\"sk-text-repr-fallback\"><pre>GridSearchCV(cv=5, estimator=LogisticRegression(),\n",
       "             param_grid={&#x27;C&#x27;: [14000, 14500, 15000, 15500, 16000, 17000],\n",
       "                         &#x27;random_state&#x27;: [100, 1000, 2000, 10000]})</pre><b>In a Jupyter environment, please rerun this cell to show the HTML representation or trust the notebook. <br />On GitHub, the HTML representation is unable to render, please try loading this page with nbviewer.org.</b></div><div class=\"sk-container\" hidden><div class=\"sk-item sk-dashed-wrapped\"><div class=\"sk-label-container\"><div class=\"sk-label sk-toggleable\"><input class=\"sk-toggleable__control sk-hidden--visually\" id=\"sk-estimator-id-1\" type=\"checkbox\" ><label for=\"sk-estimator-id-1\" class=\"sk-toggleable__label sk-toggleable__label-arrow\">GridSearchCV</label><div class=\"sk-toggleable__content\"><pre>GridSearchCV(cv=5, estimator=LogisticRegression(),\n",
       "             param_grid={&#x27;C&#x27;: [14000, 14500, 15000, 15500, 16000, 17000],\n",
       "                         &#x27;random_state&#x27;: [100, 1000, 2000, 10000]})</pre></div></div></div><div class=\"sk-parallel\"><div class=\"sk-parallel-item\"><div class=\"sk-item\"><div class=\"sk-label-container\"><div class=\"sk-label sk-toggleable\"><input class=\"sk-toggleable__control sk-hidden--visually\" id=\"sk-estimator-id-2\" type=\"checkbox\" ><label for=\"sk-estimator-id-2\" class=\"sk-toggleable__label sk-toggleable__label-arrow\">estimator: LogisticRegression</label><div class=\"sk-toggleable__content\"><pre>LogisticRegression()</pre></div></div></div><div class=\"sk-serial\"><div class=\"sk-item\"><div class=\"sk-estimator sk-toggleable\"><input class=\"sk-toggleable__control sk-hidden--visually\" id=\"sk-estimator-id-3\" type=\"checkbox\" ><label for=\"sk-estimator-id-3\" class=\"sk-toggleable__label sk-toggleable__label-arrow\">LogisticRegression</label><div class=\"sk-toggleable__content\"><pre>LogisticRegression()</pre></div></div></div></div></div></div></div></div></div></div>"
      ],
      "text/plain": [
       "GridSearchCV(cv=5, estimator=LogisticRegression(),\n",
       "             param_grid={'C': [14000, 14500, 15000, 15500, 16000, 17000],\n",
       "                         'random_state': [100, 1000, 2000, 10000]})"
      ]
     },
     "execution_count": 38,
     "metadata": {},
     "output_type": "execute_result"
    }
   ],
   "source": [
    "# ici, on entraine la fonction\n",
    "grid_search_rl.fit(X_train, y_train)"
   ]
  },
  {
   "cell_type": "code",
   "execution_count": 39,
   "id": "4acd3657",
   "metadata": {},
   "outputs": [
    {
     "name": "stdout",
     "output_type": "stream",
     "text": [
      "Le meilleur score avec les hyperparamètres est de :  0.8502062837194542\n",
      "Les meilleurs hyperparamètres sont :  {'C': 14000, 'random_state': 100}\n"
     ]
    }
   ],
   "source": [
    "# Obtenir le meilleur score selon nos choix d'hyperparamètres\n",
    "print('Le meilleur score avec les hyperparamètres est de : ',grid_search_rl.best_score_)\n",
    "\n",
    "# Connaître les meilleurs paramètres\n",
    "print('Les meilleurs hyperparamètres sont : ',grid_search_rl.best_params_)"
   ]
  },
  {
   "cell_type": "markdown",
   "id": "d2b2c03a",
   "metadata": {},
   "source": [
    "Dans le cadre de notre optimisation, nous pouvons constater une très légère baisse de nos résultats. Nous avons stabilité notre score à 0.85, ce qui reste un excellent résultat.\n",
    "\n",
    "A présent, nous allons procéder à une méthodologie identique à notre Random Forest et ainsi déterminer le meilleur modèle."
   ]
  },
  {
   "cell_type": "markdown",
   "id": "14b63c9d",
   "metadata": {},
   "source": [
    "### 2. Random Forest"
   ]
  },
  {
   "cell_type": "markdown",
   "id": "3f0d50d5",
   "metadata": {},
   "source": [
    "#### A. Cross Validation"
   ]
  },
  {
   "cell_type": "code",
   "execution_count": 40,
   "id": "57696e43",
   "metadata": {},
   "outputs": [
    {
     "data": {
      "text/plain": [
       "0.8575873827791988"
      ]
     },
     "execution_count": 40,
     "metadata": {},
     "output_type": "execute_result"
    }
   ],
   "source": [
    "cross_val_score(RandomForestClassifier(), X_train, y_train, cv = 10).mean()"
   ]
  },
  {
   "cell_type": "code",
   "execution_count": 41,
   "id": "fce69d6e",
   "metadata": {},
   "outputs": [],
   "source": [
    "n_estimators = [100, 300, 500, 700, 1000, 1500, 2000, 5000, 10000]\n",
    "score_apprentissage, score_validation = validation_curve(model3, X_train, y_train,\n",
    "                                                        param_name = 'n_estimators',\n",
    "                                                        param_range = n_estimators, cv = 10)"
   ]
  },
  {
   "cell_type": "code",
   "execution_count": 42,
   "id": "6a98e047",
   "metadata": {},
   "outputs": [
    {
     "data": {
      "text/plain": [
       "array([0.86050725, 0.86048593, 0.86048593, 0.8634058 , 0.86483376,\n",
       "       0.86481245, 0.8619139 , 0.86483376, 0.86485507])"
      ]
     },
     "execution_count": 42,
     "metadata": {},
     "output_type": "execute_result"
    }
   ],
   "source": [
    "score_validation.mean(axis = 1)"
   ]
  },
  {
   "cell_type": "code",
   "execution_count": 43,
   "id": "58c53098",
   "metadata": {},
   "outputs": [
    {
     "data": {
      "text/plain": [
       "<matplotlib.legend.Legend at 0x1f2e5d6efa0>"
      ]
     },
     "execution_count": 43,
     "metadata": {},
     "output_type": "execute_result"
    },
    {
     "data": {
      "image/png": "[encoded data removed]",
      "text/plain": [
       "<Figure size 432x288 with 1 Axes>"
      ]
     },
     "metadata": {
      "needs_background": "light"
     },
     "output_type": "display_data"
    }
   ],
   "source": [
    "plt.plot(n_estimators, score_validation.mean(axis = 1), marker = 'v', label = 'Score validation')\n",
    "plt.plot(n_estimators, score_apprentissage.mean(axis = 1), marker = 'v', label = 'Score apprentissage')\n",
    "plt.legend()"
   ]
  },
  {
   "cell_type": "code",
   "execution_count": 44,
   "id": "ef0c4fda",
   "metadata": {},
   "outputs": [],
   "source": [
    "max_depth = [1, 50, 100]\n",
    "score_apprentissage, score_validation = validation_curve(model3, X_train, y_train,\n",
    "                                                        param_name = 'max_depth',\n",
    "                                                        param_range = max_depth, cv = 10)"
   ]
  },
  {
   "cell_type": "code",
   "execution_count": 45,
   "id": "6d855e1c",
   "metadata": {},
   "outputs": [
    {
     "data": {
      "text/plain": [
       "array([0.83723359, 0.86479113, 0.85899403])"
      ]
     },
     "execution_count": 45,
     "metadata": {},
     "output_type": "execute_result"
    }
   ],
   "source": [
    "score_validation.mean(axis = 1)"
   ]
  },
  {
   "cell_type": "code",
   "execution_count": 46,
   "id": "b6f1e315",
   "metadata": {},
   "outputs": [
    {
     "data": {
      "text/plain": [
       "<matplotlib.legend.Legend at 0x1f2e80a73a0>"
      ]
     },
     "execution_count": 46,
     "metadata": {},
     "output_type": "execute_result"
    },
    {
     "data": {
      "image/png": "[encoded data removed]",
      "text/plain": [
       "<Figure size 432x288 with 1 Axes>"
      ]
     },
     "metadata": {
      "needs_background": "light"
     },
     "output_type": "display_data"
    }
   ],
   "source": [
    "plt.plot(max_depth, score_validation.mean(axis = 1), marker = 'v', label = 'Score validation')\n",
    "plt.plot(max_depth, score_apprentissage.mean(axis = 1), marker = 'v', label = 'Score apprentissage')\n",
    "plt.legend()"
   ]
  },
  {
   "cell_type": "markdown",
   "id": "6475c327",
   "metadata": {},
   "source": [
    "#### B. GridSearchCV"
   ]
  },
  {
   "cell_type": "code",
   "execution_count": 47,
   "id": "b3ae319a",
   "metadata": {},
   "outputs": [],
   "source": [
    "grid_param = {'n_estimators' : [4600,4800,5000, 5200],\n",
    "              'max_depth' : [48, 49, 50, 51, 52]}\n",
    "              \n",
    "grid_search_rf = GridSearchCV(RandomForestClassifier(), grid_param, cv = 5)"
   ]
  },
  {
   "cell_type": "code",
   "execution_count": 48,
   "id": "73debbc7",
   "metadata": {},
   "outputs": [
    {
     "name": "stdout",
     "output_type": "stream",
     "text": [
      "Le meilleur score avec les hyperparamètres est de :  0.8706230826192742\n",
      "Les meilleurs hyperparamètres sont :  {'max_depth': 49, 'n_estimators': 4600}\n"
     ]
    }
   ],
   "source": [
    "# ici, on entraine la fonction\n",
    "grid_search_rf.fit(X_train, y_train)\n",
    "\n",
    "# Obtenir le meilleur score selon nos choix d'hyperparamètres\n",
    "print('Le meilleur score avec les hyperparamètres est de : ',grid_search_rf.best_score_)\n",
    "\n",
    "# Connaître les meilleurs paramètres\n",
    "print('Les meilleurs hyperparamètres sont : ',grid_search_rf.best_params_)"
   ]
  },
  {
   "cell_type": "code",
   "execution_count": 50,
   "id": "9ca1d52c",
   "metadata": {},
   "outputs": [
    {
     "data": {
      "text/plain": [
       "array([[ 82,  15],\n",
       "       [ 12, 121]], dtype=int64)"
      ]
     },
     "execution_count": 50,
     "metadata": {},
     "output_type": "execute_result"
    }
   ],
   "source": [
    "# Utilisation de la fonction confusion matrix pour analyser les erreurs\n",
    "\n",
    "confusion_matrix(y_test, model3.predict(X_test))"
   ]
  },
  {
   "cell_type": "raw",
   "id": "32c6d6a9",
   "metadata": {},
   "source": [
    "Notre optimisation des deux modèles sélectionnés nous confirment une amélioration de nos scores.\n",
    "\n",
    "- Régression logistique : passage d'un score test de 0.856 à 0.85;\n",
    "- Random Forest : passage de 0.87 à 0.87.\n",
    "\n",
    "Nos modèles sont très similaires mais le Random Forest présente le meilleur résultat."
   ]
  },
  {
   "cell_type": "markdown",
   "id": "c94c9347",
   "metadata": {},
   "source": [
    "## Prédiction de données"
   ]
  },
  {
   "cell_type": "markdown",
   "id": "fb04e9bc",
   "metadata": {},
   "source": [
    "Nous allons créer une méthode nous permettant, à travers l'analyse de nos données et sur notre modélisation de tester si notre modèle basé sur le Random Forest peut prédire le risque d'insuffisance cardiaque pour un patient."
   ]
  },
  {
   "cell_type": "code",
   "execution_count": 55,
   "id": "d63d485d",
   "metadata": {},
   "outputs": [
    {
     "name": "stdout",
     "output_type": "stream",
     "text": [
      "Le score d'apprentissage est de :  1.0\n",
      "Le score de test est de :  0.8826086956521739\n"
     ]
    }
   ],
   "source": [
    "# Création du modèle\n",
    "model = RandomForestClassifier(max_depth = 49, n_estimators = 4600)\n",
    "\n",
    "# Entrainement du modèle\n",
    "model.fit(X_train, y_train)\n",
    "\n",
    "# Analyse de nos prédictions\n",
    "prediction = model.predict(X_test)\n",
    "\n",
    "# on va afficher le % d'apprentissage du modèle\n",
    "A = model.score(X_train, y_train)\n",
    "print (\"Le score d'apprentissage est de : \", A)\n",
    "\n",
    "\n",
    "R = model3.score(X_test, y_test)\n",
    "print(\"Le score de test est de : \",R)"
   ]
  },
  {
   "cell_type": "code",
   "execution_count": 56,
   "id": "5385151a",
   "metadata": {},
   "outputs": [],
   "source": [
    "# Création de notre modèle afin de tester nos données\n",
    "\n",
    "def heart(model, Age = 31, Sex = 1, ChestPainType = 0, RestingBP = 120, Cholesterol = 0, FastingBS = 0,\n",
    "       RestingECG = 0, MaxHR = 170, ExerciseAngina = 1, Oldpeak = 1, ST_Slope = 0):\n",
    "    \n",
    "    x = np.array ([ Age, Sex, ChestPainType, RestingBP, Cholesterol, FastingBS,\n",
    "       RestingECG, MaxHR, ExerciseAngina, Oldpeak, ST_Slope]).reshape(1, 11)\n",
    "    \n",
    "    print(model.predict(x))\n",
    "    print(model.predict_proba(x))\n"
   ]
  },
  {
   "cell_type": "code",
   "execution_count": 57,
   "id": "d79ab022",
   "metadata": {},
   "outputs": [
    {
     "name": "stdout",
     "output_type": "stream",
     "text": [
      "[1]\n",
      "[[0.25956522 0.74043478]]\n"
     ]
    }
   ],
   "source": [
    "heart(model)"
   ]
  },
  {
   "cell_type": "markdown",
   "id": "164400dc",
   "metadata": {},
   "source": [
    "Ici, nous avons un résultat indiquant une insuffisance cardiaque. Nous allons analyser la probabilité de ce résultat.\n",
    "\n",
    "Ce dernier nous indique un score 0 à 25,95% et un score de 1 à 74,04%.\n"
   ]
  },
  {
   "cell_type": "markdown",
   "id": "a33e98f2",
   "metadata": {},
   "source": [
    "# IV. Conclusion"
   ]
  },
  {
   "cell_type": "markdown",
   "id": "4a8eb149",
   "metadata": {},
   "source": [
    "En conclusion, nous pouvons indiquer que notre problématique de pouvoir prédire un risque d'insuffisance cardiaque pour un patient a parfaitement fonctionné.\n",
    "\n",
    "Ce projet nous a amené à effectuer une première exploration des données (connaissance des variables, leur impact sur notre prédiction et la modélisation).\n",
    "\n",
    "Après avoir abordé cette première phase, nous avons procédé à une modélisation à travers une sélection de 4 algorithmes liés à cette problématique.\n",
    "Nous avons, par la suite, procéder à une sélection des 2 modèles ayant obtenu à la fois le meilleur score mais également le niveau d'erreur le plus faible.\n",
    "\n",
    "Ensuite, nous avons procédé à une optimisation de nos modèles à travers une amélioration des paramètres de nos différents modèles. Cette optimisation a permis une amélioration du Random Forest qui sera notre modèle sélectionné.\n",
    "\n",
    "Enfin, nous avons terminé par un test sur notre modèle dans le but de prédire un résultat à travers des données.\n",
    "\n",
    "Nous pouvons ainsi confirmer que notre modèle correspond à un excellent score mais qu'il est toutefois possible d'améliorer ce dernier à travers une optimisation d'autres paramètres."
   ]
  }
 ],
 "metadata": {
  "kernelspec": {
   "display_name": "Python 3 (ipykernel)",
   "language": "python",
   "name": "python3"
  },
  "language_info": {
   "codemirror_mode": {
    "name": "ipython",
    "version": 3
   },
   "file_extension": ".py",
   "mimetype": "text/x-python",
   "name": "python",
   "nbconvert_exporter": "python",
   "pygments_lexer": "ipython3",
   "version": "3.9.7"
  }
 },
 "nbformat": 4,
 "nbformat_minor": 5
}
